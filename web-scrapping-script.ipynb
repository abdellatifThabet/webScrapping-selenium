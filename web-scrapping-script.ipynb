{
 "cells": [
  {
   "cell_type": "code",
   "execution_count": 54,
   "metadata": {},
   "outputs": [],
   "source": [
    "from selenium import webdriver\n",
    "from webdriver_manager.chrome import ChromeDriverManager\n",
    "url = r'https://www.tradingview.com/symbols/BTCUSD/technicals/'"
   ]
  },
  {
   "cell_type": "code",
   "execution_count": 55,
   "metadata": {},
   "outputs": [
    {
     "name": "stderr",
     "output_type": "stream",
     "text": [
      "\n",
      "\n",
      "====== WebDriver manager ======\n",
      "Current google-chrome version is 91.0.4472\n",
      "Get LATEST driver version for 91.0.4472\n",
      "Driver [/home/abdou/.wdm/drivers/chromedriver/linux64/91.0.4472.101/chromedriver] found in cache\n",
      "<ipython-input-55-d606cfa94fdb>:3: DeprecationWarning: executable_path has been deprecated, please pass in a Service object\n",
      "  driver = webdriver.Chrome(ChromeDriverManager().install(), chrome_options=chrome_options)\n",
      "<ipython-input-55-d606cfa94fdb>:3: DeprecationWarning: use options instead of chrome_options\n",
      "  driver = webdriver.Chrome(ChromeDriverManager().install(), chrome_options=chrome_options)\n"
     ]
    }
   ],
   "source": [
    "chrome_options = webdriver.ChromeOptions()\n",
    "chrome_options.headless = True\n",
    "driver = webdriver.Chrome(ChromeDriverManager().install(), chrome_options=chrome_options)"
   ]
  },
  {
   "cell_type": "code",
   "execution_count": null,
   "metadata": {},
   "outputs": [],
   "source": []
  },
  {
   "cell_type": "code",
   "execution_count": 56,
   "metadata": {},
   "outputs": [],
   "source": [
    "import xlwt\n",
    "from xlwt import Workbook\n",
    "from time import time, sleep"
   ]
  },
  {
   "cell_type": "code",
   "execution_count": 57,
   "metadata": {},
   "outputs": [],
   "source": [
    "#ActionChains(driver).click('<button role=\"tab\" id=\"1m\" aria-selected=\"true\" class=\"button-1cy7XKgV isSelected-1cy7XKgV medium-1cy7XKgV\">1 minute</button>').perform()\n",
    "#driver.get(url)\n",
    "#driver.find_element_by_xpath('/html/body/div[2]/div[4]/div[2]/div/div/div/div/div/div/div[2]/div/div[2]/div/div/div[1]/div/div/div/button[1]').click()"
   ]
  },
  {
   "cell_type": "code",
   "execution_count": 58,
   "metadata": {},
   "outputs": [],
   "source": [
    "def scrap_data():\n",
    "    driver.get(url)\n",
    "    driver.find_element_by_xpath('/html/body/div[2]/div[4]/div[2]/div/div/div/div/div/div/div[2]/div/div[2]/div/div/div[1]/div/div/div/button[1]').click()\n",
    "    sleep(1)\n",
    "    oscilators = driver.find_elements_by_class_name(\"tableWrapper-2-juHm8n\")\n",
    "   \n",
    "    # Workbook is created\n",
    "    wb = Workbook()\n",
    "    sheet1 = wb.add_sheet('Sheet 1')\n",
    "    sheet1.write_merge(0, 0, 0, 2, 'OSCILLATORS')\n",
    "    sheet1.write_merge(0, 0, 3, 5, 'MOVING AVERAGES')\n",
    "    sheet1.write_merge(0, 0, 6, 11, 'PIVOTS')\n",
    "\n",
    "    ## filling the file\n",
    "    sum_c = 0\n",
    "    total_c = 0\n",
    "    for osc in oscilators:\n",
    "\n",
    "        rows = osc.find_elements_by_tag_name(\"tr\")\n",
    "        for i,row in enumerate(rows):\n",
    "\n",
    "            if(i<1):\n",
    "                cols = row.find_elements_by_tag_name(\"th\")\n",
    "                for c, col in enumerate(cols):\n",
    "\n",
    "                    #print(col.text) #prints text from the element\n",
    "                    sheet1.write(i+1, sum_c, col.text)\n",
    "                    sum_c = sum_c+1\n",
    "            elif(i>0):\n",
    "                cols = row.find_elements_by_tag_name(\"td\")\n",
    "                for c, col in enumerate(cols):\n",
    "                    sheet1.write(i+1, total_c+c, col.text)\n",
    "                    #print(col.text) #prints text from the element\n",
    "        total_c = total_c+len(cols)\n",
    "        #print(\"*************************this is another table ***************************\")\n",
    "    wb.save('scrap_data.xls')\n",
    "    return "
   ]
  },
  {
   "cell_type": "code",
   "execution_count": null,
   "metadata": {},
   "outputs": [],
   "source": [
    "while True:\n",
    "    scrap_data()\n",
    "    sleep(60 - time() % 60)"
   ]
  },
  {
   "cell_type": "code",
   "execution_count": null,
   "metadata": {},
   "outputs": [],
   "source": []
  },
  {
   "cell_type": "code",
   "execution_count": null,
   "metadata": {},
   "outputs": [],
   "source": []
  },
  {
   "cell_type": "code",
   "execution_count": null,
   "metadata": {},
   "outputs": [],
   "source": []
  },
  {
   "cell_type": "code",
   "execution_count": null,
   "metadata": {},
   "outputs": [],
   "source": []
  }
 ],
 "metadata": {
  "kernelspec": {
   "display_name": "Python 3",
   "language": "python",
   "name": "python3"
  },
  "language_info": {
   "codemirror_mode": {
    "name": "ipython",
    "version": 3
   },
   "file_extension": ".py",
   "mimetype": "text/x-python",
   "name": "python",
   "nbconvert_exporter": "python",
   "pygments_lexer": "ipython3",
   "version": "3.8.5"
  }
 },
 "nbformat": 4,
 "nbformat_minor": 4
}
